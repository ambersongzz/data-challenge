{
 "cells": [
  {
   "cell_type": "code",
   "execution_count": 145,
   "metadata": {},
   "outputs": [],
   "source": [
    "import pandas as pd\n",
    "import numpy as np\n",
    "\n",
    "from ggplot import *\n",
    "import matplotlib.pyplot as plt\n",
    "import seaborn as sns\n",
    "%matplotlib inline\n",
    "\n",
    "from sklearn.ensemble import RandomForestRegressor\n",
    "import xgboost as xgb"
   ]
  },
  {
   "cell_type": "code",
   "execution_count": 146,
   "metadata": {},
   "outputs": [],
   "source": [
    "train_features = pd.read_csv('indeed_data_science_exercise/train_features_2013-03-07.csv')\n",
    "train_salaries = pd.read_csv('indeed_data_science_exercise/train_salaries_2013-03-07.csv')\n",
    "test_features = pd.read_csv('indeed_data_science_exercise/test_features_2013-03-07.csv')"
   ]
  },
  {
   "cell_type": "code",
   "execution_count": 147,
   "metadata": {},
   "outputs": [],
   "source": [
    "train = train_features.join(train_salaries.set_index('jobId'), on='jobId')"
   ]
  },
  {
   "cell_type": "markdown",
   "metadata": {},
   "source": [
    "# EDA"
   ]
  },
  {
   "cell_type": "markdown",
   "metadata": {},
   "source": [
    "Let's first check whether the dimension of joined training data match original data:"
   ]
  },
  {
   "cell_type": "code",
   "execution_count": 148,
   "metadata": {},
   "outputs": [
    {
     "data": {
      "text/plain": [
       "((1000000, 9), (1000000, 8), (1000000, 2))"
      ]
     },
     "execution_count": 148,
     "metadata": {},
     "output_type": "execute_result"
    }
   ],
   "source": [
    "train.shape, train_features.shape, train_salaries.shape"
   ]
  },
  {
   "cell_type": "code",
   "execution_count": 149,
   "metadata": {},
   "outputs": [
    {
     "data": {
      "text/plain": [
       "(1000000, 8)"
      ]
     },
     "execution_count": 149,
     "metadata": {},
     "output_type": "execute_result"
    }
   ],
   "source": [
    "test_features.shape"
   ]
  },
  {
   "cell_type": "code",
   "execution_count": 150,
   "metadata": {},
   "outputs": [
    {
     "data": {
      "text/html": [
       "<div>\n",
       "<style scoped>\n",
       "    .dataframe tbody tr th:only-of-type {\n",
       "        vertical-align: middle;\n",
       "    }\n",
       "\n",
       "    .dataframe tbody tr th {\n",
       "        vertical-align: top;\n",
       "    }\n",
       "\n",
       "    .dataframe thead th {\n",
       "        text-align: right;\n",
       "    }\n",
       "</style>\n",
       "<table border=\"1\" class=\"dataframe\">\n",
       "  <thead>\n",
       "    <tr style=\"text-align: right;\">\n",
       "      <th></th>\n",
       "      <th>jobId</th>\n",
       "      <th>companyId</th>\n",
       "      <th>jobType</th>\n",
       "      <th>degree</th>\n",
       "      <th>major</th>\n",
       "      <th>industry</th>\n",
       "      <th>yearsExperience</th>\n",
       "      <th>milesFromMetropolis</th>\n",
       "      <th>salary</th>\n",
       "    </tr>\n",
       "  </thead>\n",
       "  <tbody>\n",
       "    <tr>\n",
       "      <th>0</th>\n",
       "      <td>JOB1362684407687</td>\n",
       "      <td>COMP37</td>\n",
       "      <td>CFO</td>\n",
       "      <td>MASTERS</td>\n",
       "      <td>MATH</td>\n",
       "      <td>HEALTH</td>\n",
       "      <td>10</td>\n",
       "      <td>83</td>\n",
       "      <td>130</td>\n",
       "    </tr>\n",
       "    <tr>\n",
       "      <th>1</th>\n",
       "      <td>JOB1362684407688</td>\n",
       "      <td>COMP19</td>\n",
       "      <td>CEO</td>\n",
       "      <td>HIGH_SCHOOL</td>\n",
       "      <td>NONE</td>\n",
       "      <td>WEB</td>\n",
       "      <td>3</td>\n",
       "      <td>73</td>\n",
       "      <td>101</td>\n",
       "    </tr>\n",
       "    <tr>\n",
       "      <th>2</th>\n",
       "      <td>JOB1362684407689</td>\n",
       "      <td>COMP52</td>\n",
       "      <td>VICE_PRESIDENT</td>\n",
       "      <td>DOCTORAL</td>\n",
       "      <td>PHYSICS</td>\n",
       "      <td>HEALTH</td>\n",
       "      <td>10</td>\n",
       "      <td>38</td>\n",
       "      <td>137</td>\n",
       "    </tr>\n",
       "    <tr>\n",
       "      <th>3</th>\n",
       "      <td>JOB1362684407690</td>\n",
       "      <td>COMP38</td>\n",
       "      <td>MANAGER</td>\n",
       "      <td>DOCTORAL</td>\n",
       "      <td>CHEMISTRY</td>\n",
       "      <td>AUTO</td>\n",
       "      <td>8</td>\n",
       "      <td>17</td>\n",
       "      <td>142</td>\n",
       "    </tr>\n",
       "    <tr>\n",
       "      <th>4</th>\n",
       "      <td>JOB1362684407691</td>\n",
       "      <td>COMP7</td>\n",
       "      <td>VICE_PRESIDENT</td>\n",
       "      <td>BACHELORS</td>\n",
       "      <td>PHYSICS</td>\n",
       "      <td>FINANCE</td>\n",
       "      <td>8</td>\n",
       "      <td>16</td>\n",
       "      <td>163</td>\n",
       "    </tr>\n",
       "  </tbody>\n",
       "</table>\n",
       "</div>"
      ],
      "text/plain": [
       "              jobId companyId         jobType       degree      major  \\\n",
       "0  JOB1362684407687    COMP37             CFO      MASTERS       MATH   \n",
       "1  JOB1362684407688    COMP19             CEO  HIGH_SCHOOL       NONE   \n",
       "2  JOB1362684407689    COMP52  VICE_PRESIDENT     DOCTORAL    PHYSICS   \n",
       "3  JOB1362684407690    COMP38         MANAGER     DOCTORAL  CHEMISTRY   \n",
       "4  JOB1362684407691     COMP7  VICE_PRESIDENT    BACHELORS    PHYSICS   \n",
       "\n",
       "  industry  yearsExperience  milesFromMetropolis  salary  \n",
       "0   HEALTH               10                   83     130  \n",
       "1      WEB                3                   73     101  \n",
       "2   HEALTH               10                   38     137  \n",
       "3     AUTO                8                   17     142  \n",
       "4  FINANCE                8                   16     163  "
      ]
     },
     "execution_count": 150,
     "metadata": {},
     "output_type": "execute_result"
    }
   ],
   "source": [
    "train.head()"
   ]
  },
  {
   "cell_type": "code",
   "execution_count": 151,
   "metadata": {},
   "outputs": [
    {
     "name": "stdout",
     "output_type": "stream",
     "text": [
      "<class 'pandas.core.frame.DataFrame'>\n",
      "RangeIndex: 1000000 entries, 0 to 999999\n",
      "Data columns (total 9 columns):\n",
      "jobId                  1000000 non-null object\n",
      "companyId              1000000 non-null object\n",
      "jobType                1000000 non-null object\n",
      "degree                 1000000 non-null object\n",
      "major                  1000000 non-null object\n",
      "industry               1000000 non-null object\n",
      "yearsExperience        1000000 non-null int64\n",
      "milesFromMetropolis    1000000 non-null int64\n",
      "salary                 1000000 non-null int64\n",
      "dtypes: int64(3), object(6)\n",
      "memory usage: 68.7+ MB\n",
      "None jobId                  0\n",
      "companyId              0\n",
      "jobType                0\n",
      "degree                 0\n",
      "major                  0\n",
      "industry               0\n",
      "yearsExperience        0\n",
      "milesFromMetropolis    0\n",
      "salary                 0\n",
      "dtype: int64\n"
     ]
    }
   ],
   "source": [
    "print(train.info(), train.isnull().sum())"
   ]
  },
  {
   "cell_type": "code",
   "execution_count": 152,
   "metadata": {},
   "outputs": [
    {
     "name": "stdout",
     "output_type": "stream",
     "text": [
      "       yearsExperience  milesFromMetropolis          salary\n",
      "count   1000000.000000       1000000.000000  1000000.000000\n",
      "mean         11.992386            49.529260      116.061818\n",
      "std           7.212391            28.877733       38.717936\n",
      "min           0.000000             0.000000        0.000000\n",
      "25%           6.000000            25.000000       88.000000\n",
      "50%          12.000000            50.000000      114.000000\n",
      "75%          18.000000            75.000000      141.000000\n",
      "max          24.000000            99.000000      301.000000\n"
     ]
    }
   ],
   "source": [
    "print(train.describe())"
   ]
  },
  {
   "cell_type": "markdown",
   "metadata": {},
   "source": [
    "Here is the distribution of $salary$:"
   ]
  },
  {
   "cell_type": "code",
   "execution_count": 153,
   "metadata": {},
   "outputs": [
    {
     "data": {
      "image/png": "[encoded data removed]",
      "text/plain": [
       "<Figure size 792x576 with 1 Axes>"
      ]
     },
     "metadata": {},
     "output_type": "display_data"
    },
    {
     "data": {
      "text/plain": [
       "<ggplot: (345687679)>"
      ]
     },
     "execution_count": 153,
     "metadata": {},
     "output_type": "execute_result"
    }
   ],
   "source": [
    "ggplot(train, aes(x = 'salary'))+ geom_histogram()"
   ]
  },
  {
   "cell_type": "markdown",
   "metadata": {},
   "source": [
    "There seems to be some unnormal values:"
   ]
  },
  {
   "cell_type": "code",
   "execution_count": 154,
   "metadata": {},
   "outputs": [
    {
     "data": {
      "text/html": [
       "<div>\n",
       "<style scoped>\n",
       "    .dataframe tbody tr th:only-of-type {\n",
       "        vertical-align: middle;\n",
       "    }\n",
       "\n",
       "    .dataframe tbody tr th {\n",
       "        vertical-align: top;\n",
       "    }\n",
       "\n",
       "    .dataframe thead th {\n",
       "        text-align: right;\n",
       "    }\n",
       "</style>\n",
       "<table border=\"1\" class=\"dataframe\">\n",
       "  <thead>\n",
       "    <tr style=\"text-align: right;\">\n",
       "      <th></th>\n",
       "      <th>jobId</th>\n",
       "      <th>companyId</th>\n",
       "      <th>jobType</th>\n",
       "      <th>degree</th>\n",
       "      <th>major</th>\n",
       "      <th>industry</th>\n",
       "      <th>yearsExperience</th>\n",
       "      <th>milesFromMetropolis</th>\n",
       "      <th>salary</th>\n",
       "    </tr>\n",
       "  </thead>\n",
       "  <tbody>\n",
       "    <tr>\n",
       "      <th>30559</th>\n",
       "      <td>JOB1362684438246</td>\n",
       "      <td>COMP44</td>\n",
       "      <td>JUNIOR</td>\n",
       "      <td>DOCTORAL</td>\n",
       "      <td>MATH</td>\n",
       "      <td>AUTO</td>\n",
       "      <td>11</td>\n",
       "      <td>7</td>\n",
       "      <td>0</td>\n",
       "    </tr>\n",
       "    <tr>\n",
       "      <th>495984</th>\n",
       "      <td>JOB1362684903671</td>\n",
       "      <td>COMP34</td>\n",
       "      <td>JUNIOR</td>\n",
       "      <td>NONE</td>\n",
       "      <td>NONE</td>\n",
       "      <td>OIL</td>\n",
       "      <td>1</td>\n",
       "      <td>25</td>\n",
       "      <td>0</td>\n",
       "    </tr>\n",
       "    <tr>\n",
       "      <th>652076</th>\n",
       "      <td>JOB1362685059763</td>\n",
       "      <td>COMP25</td>\n",
       "      <td>CTO</td>\n",
       "      <td>HIGH_SCHOOL</td>\n",
       "      <td>NONE</td>\n",
       "      <td>AUTO</td>\n",
       "      <td>6</td>\n",
       "      <td>60</td>\n",
       "      <td>0</td>\n",
       "    </tr>\n",
       "    <tr>\n",
       "      <th>816129</th>\n",
       "      <td>JOB1362685223816</td>\n",
       "      <td>COMP42</td>\n",
       "      <td>MANAGER</td>\n",
       "      <td>DOCTORAL</td>\n",
       "      <td>ENGINEERING</td>\n",
       "      <td>FINANCE</td>\n",
       "      <td>18</td>\n",
       "      <td>6</td>\n",
       "      <td>0</td>\n",
       "    </tr>\n",
       "    <tr>\n",
       "      <th>828156</th>\n",
       "      <td>JOB1362685235843</td>\n",
       "      <td>COMP40</td>\n",
       "      <td>VICE_PRESIDENT</td>\n",
       "      <td>MASTERS</td>\n",
       "      <td>ENGINEERING</td>\n",
       "      <td>WEB</td>\n",
       "      <td>3</td>\n",
       "      <td>29</td>\n",
       "      <td>0</td>\n",
       "    </tr>\n",
       "  </tbody>\n",
       "</table>\n",
       "</div>"
      ],
      "text/plain": [
       "                   jobId companyId         jobType       degree        major  \\\n",
       "30559   JOB1362684438246    COMP44          JUNIOR     DOCTORAL         MATH   \n",
       "495984  JOB1362684903671    COMP34          JUNIOR         NONE         NONE   \n",
       "652076  JOB1362685059763    COMP25             CTO  HIGH_SCHOOL         NONE   \n",
       "816129  JOB1362685223816    COMP42         MANAGER     DOCTORAL  ENGINEERING   \n",
       "828156  JOB1362685235843    COMP40  VICE_PRESIDENT      MASTERS  ENGINEERING   \n",
       "\n",
       "       industry  yearsExperience  milesFromMetropolis  salary  \n",
       "30559      AUTO               11                    7       0  \n",
       "495984      OIL                1                   25       0  \n",
       "652076     AUTO                6                   60       0  \n",
       "816129  FINANCE               18                    6       0  \n",
       "828156      WEB                3                   29       0  "
      ]
     },
     "execution_count": 154,
     "metadata": {},
     "output_type": "execute_result"
    }
   ],
   "source": [
    "train[train['salary']<=10]\n",
    "# None if these make sense, no on will have 0 salary, let alone CTO/Dotoral..."
   ]
  },
  {
   "cell_type": "code",
   "execution_count": 155,
   "metadata": {},
   "outputs": [
    {
     "data": {
      "text/html": [
       "<div>\n",
       "<style scoped>\n",
       "    .dataframe tbody tr th:only-of-type {\n",
       "        vertical-align: middle;\n",
       "    }\n",
       "\n",
       "    .dataframe tbody tr th {\n",
       "        vertical-align: top;\n",
       "    }\n",
       "\n",
       "    .dataframe thead th {\n",
       "        text-align: right;\n",
       "    }\n",
       "</style>\n",
       "<table border=\"1\" class=\"dataframe\">\n",
       "  <thead>\n",
       "    <tr style=\"text-align: right;\">\n",
       "      <th></th>\n",
       "      <th>jobId</th>\n",
       "      <th>companyId</th>\n",
       "      <th>jobType</th>\n",
       "      <th>degree</th>\n",
       "      <th>major</th>\n",
       "      <th>industry</th>\n",
       "      <th>yearsExperience</th>\n",
       "      <th>milesFromMetropolis</th>\n",
       "      <th>salary</th>\n",
       "    </tr>\n",
       "  </thead>\n",
       "  <tbody>\n",
       "    <tr>\n",
       "      <th>47203</th>\n",
       "      <td>JOB1362684454890</td>\n",
       "      <td>COMP18</td>\n",
       "      <td>CEO</td>\n",
       "      <td>BACHELORS</td>\n",
       "      <td>BUSINESS</td>\n",
       "      <td>FINANCE</td>\n",
       "      <td>22</td>\n",
       "      <td>18</td>\n",
       "      <td>292</td>\n",
       "    </tr>\n",
       "    <tr>\n",
       "      <th>293221</th>\n",
       "      <td>JOB1362684700908</td>\n",
       "      <td>COMP44</td>\n",
       "      <td>CEO</td>\n",
       "      <td>DOCTORAL</td>\n",
       "      <td>ENGINEERING</td>\n",
       "      <td>OIL</td>\n",
       "      <td>19</td>\n",
       "      <td>18</td>\n",
       "      <td>294</td>\n",
       "    </tr>\n",
       "    <tr>\n",
       "      <th>377196</th>\n",
       "      <td>JOB1362684784883</td>\n",
       "      <td>COMP5</td>\n",
       "      <td>CEO</td>\n",
       "      <td>DOCTORAL</td>\n",
       "      <td>ENGINEERING</td>\n",
       "      <td>WEB</td>\n",
       "      <td>20</td>\n",
       "      <td>8</td>\n",
       "      <td>290</td>\n",
       "    </tr>\n",
       "    <tr>\n",
       "      <th>400611</th>\n",
       "      <td>JOB1362684808298</td>\n",
       "      <td>COMP45</td>\n",
       "      <td>CFO</td>\n",
       "      <td>DOCTORAL</td>\n",
       "      <td>ENGINEERING</td>\n",
       "      <td>OIL</td>\n",
       "      <td>23</td>\n",
       "      <td>3</td>\n",
       "      <td>301</td>\n",
       "    </tr>\n",
       "    <tr>\n",
       "      <th>503962</th>\n",
       "      <td>JOB1362684911649</td>\n",
       "      <td>COMP3</td>\n",
       "      <td>CEO</td>\n",
       "      <td>DOCTORAL</td>\n",
       "      <td>PHYSICS</td>\n",
       "      <td>OIL</td>\n",
       "      <td>24</td>\n",
       "      <td>1</td>\n",
       "      <td>293</td>\n",
       "    </tr>\n",
       "    <tr>\n",
       "      <th>572777</th>\n",
       "      <td>JOB1362684980464</td>\n",
       "      <td>COMP60</td>\n",
       "      <td>CEO</td>\n",
       "      <td>MASTERS</td>\n",
       "      <td>ENGINEERING</td>\n",
       "      <td>OIL</td>\n",
       "      <td>22</td>\n",
       "      <td>1</td>\n",
       "      <td>298</td>\n",
       "    </tr>\n",
       "    <tr>\n",
       "      <th>685562</th>\n",
       "      <td>JOB1362685093249</td>\n",
       "      <td>COMP47</td>\n",
       "      <td>CTO</td>\n",
       "      <td>MASTERS</td>\n",
       "      <td>ENGINEERING</td>\n",
       "      <td>OIL</td>\n",
       "      <td>24</td>\n",
       "      <td>0</td>\n",
       "      <td>301</td>\n",
       "    </tr>\n",
       "    <tr>\n",
       "      <th>884902</th>\n",
       "      <td>JOB1362685292589</td>\n",
       "      <td>COMP1</td>\n",
       "      <td>CTO</td>\n",
       "      <td>MASTERS</td>\n",
       "      <td>BUSINESS</td>\n",
       "      <td>FINANCE</td>\n",
       "      <td>24</td>\n",
       "      <td>2</td>\n",
       "      <td>292</td>\n",
       "    </tr>\n",
       "    <tr>\n",
       "      <th>905713</th>\n",
       "      <td>JOB1362685313400</td>\n",
       "      <td>COMP35</td>\n",
       "      <td>CEO</td>\n",
       "      <td>DOCTORAL</td>\n",
       "      <td>BUSINESS</td>\n",
       "      <td>FINANCE</td>\n",
       "      <td>16</td>\n",
       "      <td>17</td>\n",
       "      <td>293</td>\n",
       "    </tr>\n",
       "    <tr>\n",
       "      <th>911747</th>\n",
       "      <td>JOB1362685319434</td>\n",
       "      <td>COMP3</td>\n",
       "      <td>CEO</td>\n",
       "      <td>BACHELORS</td>\n",
       "      <td>BUSINESS</td>\n",
       "      <td>FINANCE</td>\n",
       "      <td>24</td>\n",
       "      <td>28</td>\n",
       "      <td>294</td>\n",
       "    </tr>\n",
       "  </tbody>\n",
       "</table>\n",
       "</div>"
      ],
      "text/plain": [
       "                   jobId companyId jobType     degree        major industry  \\\n",
       "47203   JOB1362684454890    COMP18     CEO  BACHELORS     BUSINESS  FINANCE   \n",
       "293221  JOB1362684700908    COMP44     CEO   DOCTORAL  ENGINEERING      OIL   \n",
       "377196  JOB1362684784883     COMP5     CEO   DOCTORAL  ENGINEERING      WEB   \n",
       "400611  JOB1362684808298    COMP45     CFO   DOCTORAL  ENGINEERING      OIL   \n",
       "503962  JOB1362684911649     COMP3     CEO   DOCTORAL      PHYSICS      OIL   \n",
       "572777  JOB1362684980464    COMP60     CEO    MASTERS  ENGINEERING      OIL   \n",
       "685562  JOB1362685093249    COMP47     CTO    MASTERS  ENGINEERING      OIL   \n",
       "884902  JOB1362685292589     COMP1     CTO    MASTERS     BUSINESS  FINANCE   \n",
       "905713  JOB1362685313400    COMP35     CEO   DOCTORAL     BUSINESS  FINANCE   \n",
       "911747  JOB1362685319434     COMP3     CEO  BACHELORS     BUSINESS  FINANCE   \n",
       "\n",
       "        yearsExperience  milesFromMetropolis  salary  \n",
       "47203                22                   18     292  \n",
       "293221               19                   18     294  \n",
       "377196               20                    8     290  \n",
       "400611               23                    3     301  \n",
       "503962               24                    1     293  \n",
       "572777               22                    1     298  \n",
       "685562               24                    0     301  \n",
       "884902               24                    2     292  \n",
       "905713               16                   17     293  \n",
       "911747               24                   28     294  "
      ]
     },
     "execution_count": 155,
     "metadata": {},
     "output_type": "execute_result"
    }
   ],
   "source": [
    "train[train['salary']>=290]\n",
    "# all CEO/CTO/CFO, high salary make sense "
   ]
  },
  {
   "cell_type": "markdown",
   "metadata": {},
   "source": [
    "So let's clean the data to be:"
   ]
  },
  {
   "cell_type": "code",
   "execution_count": 156,
   "metadata": {},
   "outputs": [],
   "source": [
    "train = train[train['salary']!=0]"
   ]
  },
  {
   "cell_type": "markdown",
   "metadata": {},
   "source": [
    "Let's then look at the unique value counts of each categorical variables and distribution of numerical vairables:"
   ]
  },
  {
   "cell_type": "code",
   "execution_count": 157,
   "metadata": {},
   "outputs": [
    {
     "data": {
      "text/plain": [
       "Text(0.5,1,'companyId Value Counts')"
      ]
     },
     "execution_count": 157,
     "metadata": {},
     "output_type": "execute_result"
    },
    {
     "data": {
      "image/png": "[encoded data removed]",
      "text/plain": [
       "<Figure size 432x288 with 1 Axes>"
      ]
     },
     "metadata": {},
     "output_type": "display_data"
    }
   ],
   "source": [
    "companyId_value_counts = train.companyId.value_counts() \n",
    "sns.barplot(x=companyId_value_counts.index, y=companyId_value_counts).set_title('companyId Value Counts')\n",
    "# evenly distributed "
   ]
  },
  {
   "cell_type": "code",
   "execution_count": 158,
   "metadata": {},
   "outputs": [
    {
     "data": {
      "text/plain": [
       "(array([0, 1, 2, 3, 4, 5, 6, 7]), <a list of 8 Text xticklabel objects>)"
      ]
     },
     "execution_count": 158,
     "metadata": {},
     "output_type": "execute_result"
    },
    {
     "data": {
      "image/png": "[encoded data removed]",
      "text/plain": [
       "<Figure size 432x288 with 1 Axes>"
      ]
     },
     "metadata": {},
     "output_type": "display_data"
    }
   ],
   "source": [
    "jobType_value_counts = train.jobType.value_counts() \n",
    "sns.barplot(x=jobType_value_counts.index, y=jobType_value_counts).set_title('jobType Value Counts')\n",
    "plt.xticks(rotation=20)\n",
    "# eveny distributed... but how can the number of CXO = number of JUNIOR\n",
    "# So maybe the data was intentionally drew from each job type evenly "
   ]
  },
  {
   "cell_type": "code",
   "execution_count": 159,
   "metadata": {},
   "outputs": [
    {
     "data": {
      "text/plain": [
       "Text(0.5,1,'degree Value Counts')"
      ]
     },
     "execution_count": 159,
     "metadata": {},
     "output_type": "execute_result"
    },
    {
     "data": {
      "image/png": "[encoded data removed]",
      "text/plain": [
       "<Figure size 432x288 with 1 Axes>"
      ]
     },
     "metadata": {},
     "output_type": "display_data"
    }
   ],
   "source": [
    "degree_value_counts = train.degree.value_counts() \n",
    "sns.barplot(x=degree_value_counts.index, y=degree_value_counts).set_title('degree Value Counts')"
   ]
  },
  {
   "cell_type": "code",
   "execution_count": 160,
   "metadata": {},
   "outputs": [
    {
     "data": {
      "text/plain": [
       "(array([0, 1, 2, 3, 4, 5, 6, 7, 8]), <a list of 9 Text xticklabel objects>)"
      ]
     },
     "execution_count": 160,
     "metadata": {},
     "output_type": "execute_result"
    },
    {
     "data": {
      "image/png": "[encoded data removed]",
      "text/plain": [
       "<Figure size 432x288 with 1 Axes>"
      ]
     },
     "metadata": {},
     "output_type": "display_data"
    }
   ],
   "source": [
    "major_value_counts = train.major.value_counts() \n",
    "sns.barplot(x=major_value_counts.index, y=major_value_counts).set_title('major Value Counts')\n",
    "plt.xticks(rotation=20)\n",
    "# most of the majors are unknown"
   ]
  },
  {
   "cell_type": "code",
   "execution_count": 161,
   "metadata": {},
   "outputs": [
    {
     "data": {
      "text/plain": [
       "(array([0, 1, 2, 3, 4, 5, 6]), <a list of 7 Text xticklabel objects>)"
      ]
     },
     "execution_count": 161,
     "metadata": {},
     "output_type": "execute_result"
    },
    {
     "data": {
      "image/png": "[encoded data removed]",
      "text/plain": [
       "<Figure size 432x288 with 1 Axes>"
      ]
     },
     "metadata": {},
     "output_type": "display_data"
    }
   ],
   "source": [
    "industry_value_counts = train.industry.value_counts() \n",
    "sns.barplot(x=industry_value_counts.index, y=industry_value_counts).set_title('major Value Counts')\n",
    "plt.xticks(rotation=20)\n",
    "# evenly distributed "
   ]
  },
  {
   "cell_type": "code",
   "execution_count": 162,
   "metadata": {},
   "outputs": [
    {
     "name": "stderr",
     "output_type": "stream",
     "text": [
      "/Users/SONGZIZHEN/anaconda/envs/py36/lib/python3.6/site-packages/matplotlib/axes/_axes.py:6462: UserWarning: The 'normed' kwarg is deprecated, and has been replaced by the 'density' kwarg.\n",
      "  warnings.warn(\"The 'normed' kwarg is deprecated, and has been \"\n"
     ]
    },
    {
     "data": {
      "text/plain": [
       "<matplotlib.axes._subplots.AxesSubplot at 0x121b07a58>"
      ]
     },
     "execution_count": 162,
     "metadata": {},
     "output_type": "execute_result"
    },
    {
     "data": {
      "image/png": "[encoded data removed]",
      "text/plain": [
       "<Figure size 1008x360 with 2 Axes>"
      ]
     },
     "metadata": {},
     "output_type": "display_data"
    }
   ],
   "source": [
    "fig, (ax1, ax2) = plt.subplots(ncols=2, figsize=(14, 5), sharey=True)\n",
    "sns.set(color_codes=True)\n",
    "sns.distplot(train.yearsExperience, ax = ax1)\n",
    "sns.distplot(train.milesFromMetropolis, ax = ax2)"
   ]
  },
  {
   "cell_type": "markdown",
   "metadata": {},
   "source": [
    "Both numerical variables are discrete and evenly distributed.  \n",
    "Most of the categorical variables are also eveny distributed, even jobType.  \n",
    "So I inspect that **this data is either extracted intentionally for each feature evenly, or generated fake data**.\n"
   ]
  },
  {
   "cell_type": "markdown",
   "metadata": {},
   "source": [
    "Let's look at the distribution of salary and the distribution of salary over explanatory Variables:"
   ]
  },
  {
   "cell_type": "code",
   "execution_count": 163,
   "metadata": {},
   "outputs": [
    {
     "name": "stderr",
     "output_type": "stream",
     "text": [
      "/Users/SONGZIZHEN/anaconda/envs/py36/lib/python3.6/site-packages/matplotlib/axes/_axes.py:6462: UserWarning: The 'normed' kwarg is deprecated, and has been replaced by the 'density' kwarg.\n",
      "  warnings.warn(\"The 'normed' kwarg is deprecated, and has been \"\n"
     ]
    },
    {
     "data": {
      "text/plain": [
       "<matplotlib.axes._subplots.AxesSubplot at 0x121fc7128>"
      ]
     },
     "execution_count": 163,
     "metadata": {},
     "output_type": "execute_result"
    },
    {
     "data": {
      "image/png": "[encoded data removed]",
      "text/plain": [
       "<Figure size 432x288 with 1 Axes>"
      ]
     },
     "metadata": {},
     "output_type": "display_data"
    }
   ],
   "source": [
    "sns.set(color_codes=True)\n",
    "sns.distplot(train[\"salary\"])"
   ]
  },
  {
   "cell_type": "code",
   "execution_count": 164,
   "metadata": {},
   "outputs": [
    {
     "data": {
      "image/png": "[encoded data removed]",
      "text/plain": [
       "<Figure size 1440x1440 with 8 Axes>"
      ]
     },
     "metadata": {},
     "output_type": "display_data"
    }
   ],
   "source": [
    "fig, ax= plt.subplots(nrows=4, ncols=2, figsize=(20, 20), sharey=True)\n",
    "ax = ax.reshape(1,8)[0]\n",
    "for i, col in enumerate(['companyId', 'jobType', 'degree', 'major', 'industry',\n",
    "       'yearsExperience', 'milesFromMetropolis']):\n",
    "    salary_goupby_col = train.groupby([col]).salary.mean()\n",
    "    sns.barplot(x=salary_goupby_col.index, y=salary_goupby_col, ax=ax[i]).set_title('salary groupby ' + col)"
   ]
  },
  {
   "cell_type": "markdown",
   "metadata": {},
   "source": [
    "Looks like yearsExperience is positively correlated with salary, while milesFromMetropolis is negatively correlated with salary.   \n",
    "All categorical variables have same influence on salary except for companyId."
   ]
  },
  {
   "cell_type": "markdown",
   "metadata": {},
   "source": [
    "Here is the correlation heatmap of numerical variables:"
   ]
  },
  {
   "cell_type": "code",
   "execution_count": 165,
   "metadata": {},
   "outputs": [
    {
     "data": {
      "image/png": "[encoded data removed]",
      "text/plain": [
       "<Figure size 288x288 with 2 Axes>"
      ]
     },
     "metadata": {},
     "output_type": "display_data"
    }
   ],
   "source": [
    "sns.set_style(\"white\")\n",
    "corr = train.corr()\n",
    "\n",
    "# Generate a mask for the upper triangle\n",
    "mask = np.zeros_like(corr, dtype=np.bool)\n",
    "mask[np.triu_indices_from(mask)] = True\n",
    "\n",
    "# Set up the matplotlib figure\n",
    "f, ax = plt.subplots(figsize=(4,4))\n",
    "\n",
    "# Generate a custom diverging colormap\n",
    "cmap = sns.diverging_palette(220, 16, as_cmap=True)\n",
    "\n",
    "# Draw the heatmap with the mask and correct aspect ratio\n",
    "g = sns.heatmap(corr, mask=mask, cmap=cmap, vmax=.3, center=0,\n",
    "            square=True, linewidths=.5, cbar_kws={\"shrink\": .5})"
   ]
  },
  {
   "cell_type": "markdown",
   "metadata": {},
   "source": [
    "This varifies what we obesere in previous bar plots."
   ]
  },
  {
   "cell_type": "markdown",
   "metadata": {},
   "source": [
    "Let's check the test_features dataset, to see whether there are some unknown categories or extrapolation problem:"
   ]
  },
  {
   "cell_type": "code",
   "execution_count": 166,
   "metadata": {},
   "outputs": [
    {
     "data": {
      "text/plain": [
       "[]"
      ]
     },
     "execution_count": 166,
     "metadata": {},
     "output_type": "execute_result"
    }
   ],
   "source": [
    "[companyId for companyId in test_features.companyId.unique() if companyId not in train.companyId.unique()]"
   ]
  },
  {
   "cell_type": "code",
   "execution_count": 167,
   "metadata": {},
   "outputs": [
    {
     "data": {
      "text/plain": [
       "[]"
      ]
     },
     "execution_count": 167,
     "metadata": {},
     "output_type": "execute_result"
    }
   ],
   "source": [
    "[jobType for jobType in test_features.jobType.unique() if jobType not in train.jobType.unique()]"
   ]
  },
  {
   "cell_type": "code",
   "execution_count": 168,
   "metadata": {},
   "outputs": [
    {
     "data": {
      "text/plain": [
       "[]"
      ]
     },
     "execution_count": 168,
     "metadata": {},
     "output_type": "execute_result"
    }
   ],
   "source": [
    "[major for major in test_features.major.unique() if major not in train.major.unique()]"
   ]
  },
  {
   "cell_type": "code",
   "execution_count": 169,
   "metadata": {},
   "outputs": [
    {
     "data": {
      "text/plain": [
       "[]"
      ]
     },
     "execution_count": 169,
     "metadata": {},
     "output_type": "execute_result"
    }
   ],
   "source": [
    "[industry for industry in test_features.industry.unique() if industry not in train.industry.unique()]"
   ]
  },
  {
   "cell_type": "code",
   "execution_count": 170,
   "metadata": {},
   "outputs": [
    {
     "data": {
      "text/plain": [
       "[]"
      ]
     },
     "execution_count": 170,
     "metadata": {},
     "output_type": "execute_result"
    }
   ],
   "source": [
    "[yearsExperience for yearsExperience in test_features.yearsExperience.unique() if yearsExperience not in train.yearsExperience.unique()]"
   ]
  },
  {
   "cell_type": "code",
   "execution_count": 171,
   "metadata": {},
   "outputs": [
    {
     "data": {
      "text/plain": [
       "[]"
      ]
     },
     "execution_count": 171,
     "metadata": {},
     "output_type": "execute_result"
    }
   ],
   "source": [
    "[milesFromMetropolis for milesFromMetropolis in test_features.milesFromMetropolis.unique() if milesFromMetropolis not in train.milesFromMetropolis.unique()]"
   ]
  },
  {
   "cell_type": "markdown",
   "metadata": {},
   "source": [
    "So we don't nedd to deal with unknown categories or extrapolation problem in test_features."
   ]
  },
  {
   "cell_type": "markdown",
   "metadata": {},
   "source": [
    "# Feature Engineering"
   ]
  },
  {
   "cell_type": "markdown",
   "metadata": {},
   "source": [
    "Let's randomly split the data into training set (0.8) and validation set (0.1) and test set (0.1), since the data is large enough:"
   ]
  },
  {
   "cell_type": "code",
   "execution_count": 172,
   "metadata": {},
   "outputs": [],
   "source": [
    "split_inedx = np.random.choice(3, train.shape[0], p=[0.8, 0.1, 0.1])"
   ]
  },
  {
   "cell_type": "code",
   "execution_count": 173,
   "metadata": {},
   "outputs": [],
   "source": [
    "new_train = train[split_inedx==0].reset_index(drop=True)\n",
    "new_val = train[split_inedx==1].reset_index(drop=True)\n",
    "new_test = train[split_inedx==2].reset_index(drop=True)"
   ]
  },
  {
   "cell_type": "code",
   "execution_count": 174,
   "metadata": {},
   "outputs": [
    {
     "data": {
      "text/plain": [
       "((800119, 9), (99731, 9), (100145, 9))"
      ]
     },
     "execution_count": 174,
     "metadata": {},
     "output_type": "execute_result"
    }
   ],
   "source": [
    "new_train.shape, new_val.shape, new_test.shape"
   ]
  },
  {
   "cell_type": "markdown",
   "metadata": {},
   "source": [
    "Let's convert companyId into numerical values:"
   ]
  },
  {
   "cell_type": "code",
   "execution_count": 175,
   "metadata": {},
   "outputs": [],
   "source": [
    "# label encoding\n",
    "def label_encoding_col(col):\n",
    "    \"\"\"\n",
    "    Encodes a pandas column with continous ids. \n",
    "    \"\"\"\n",
    "    uniq = col.unique()\n",
    "    name2idx = {o:i for i,o in enumerate(uniq)}\n",
    "    return name2idx, np.array([name2idx[x] for x in col]), len(uniq)"
   ]
  },
  {
   "cell_type": "code",
   "execution_count": 176,
   "metadata": {},
   "outputs": [],
   "source": [
    "companyId_to_index, new_train['companyId'], num_companyId = label_encoding_col(new_train['companyId'])"
   ]
  },
  {
   "cell_type": "code",
   "execution_count": 177,
   "metadata": {},
   "outputs": [],
   "source": [
    "new_val['companyId'] = new_val['companyId'].map(companyId_to_index)\n",
    "new_test['companyId'] = new_test['companyId'].map(companyId_to_index)"
   ]
  },
  {
   "cell_type": "markdown",
   "metadata": {},
   "source": [
    "We can also convert some categorical variables into numerical values using mean encoding (has sorting quality, can help ensemble Tree model such as Random Forest and XGBoost) rather than label encoding on jobType, degree, major, and industry:"
   ]
  },
  {
   "cell_type": "code",
   "execution_count": 178,
   "metadata": {},
   "outputs": [],
   "source": [
    "from sklearn.model_selection import KFold\n",
    "def target_encoding(train, col = \"jobType\"):\n",
    "    \"\"\" \n",
    "    Computes regularize mean encoding on training data.  \n",
    "    \"\"\"\n",
    "    \n",
    "    kf = KFold(n_splits=5)\n",
    "    X = train.copy()\n",
    "    X[col + \"_mean_enc\"] = 0\n",
    "    for train_index, val_index in kf.split(X):\n",
    "        # get training statistics in X, and change in train\n",
    "        mean_col = X.loc[train_index].groupby(col).salary.mean()\n",
    "        train.loc[val_index, col + \"_mean_enc\"] = train[col].map(mean_col)\n",
    "    # fill na\n",
    "    global_mean = X.salary.mean()\n",
    "    train[col + \"_mean_enc\"].fillna(global_mean, inplace=True)\n",
    "\n",
    "def mean_encoding_test(test, train, col = \"jobType\"):\n",
    "    \"\"\" \n",
    "    Computes target enconding for test data.\n",
    "    \"\"\"\n",
    "    mean_col = train.groupby(col).salary.mean()\n",
    "    test[col + \"_mean_enc\"] = test[col].map(mean_col)\n",
    "    # fill na\n",
    "    global_mean = train.salary.mean()\n",
    "    test[col + \"_mean_enc\"].fillna(global_mean, inplace=True)"
   ]
  },
  {
   "cell_type": "code",
   "execution_count": 179,
   "metadata": {},
   "outputs": [],
   "source": [
    "target_encoding(new_train, col = \"jobType\")\n",
    "mean_encoding_test(new_val, new_train, col = \"jobType\")\n",
    "mean_encoding_test(new_test, new_train, col = \"jobType\")"
   ]
  },
  {
   "cell_type": "code",
   "execution_count": 180,
   "metadata": {},
   "outputs": [],
   "source": [
    "target_encoding(new_train, col = \"degree\")\n",
    "mean_encoding_test(new_val, new_train, col = \"degree\")\n",
    "mean_encoding_test(new_test, new_train, col = \"degree\")"
   ]
  },
  {
   "cell_type": "code",
   "execution_count": 181,
   "metadata": {},
   "outputs": [],
   "source": [
    "target_encoding(new_train, col = \"major\")\n",
    "mean_encoding_test(new_val, new_train, col = \"major\")\n",
    "mean_encoding_test(new_test, new_train, col = \"major\")"
   ]
  },
  {
   "cell_type": "code",
   "execution_count": 182,
   "metadata": {},
   "outputs": [],
   "source": [
    "target_encoding(new_train, col = \"industry\")\n",
    "mean_encoding_test(new_val, new_train, col = \"industry\")\n",
    "mean_encoding_test(new_test, new_train, col = \"industry\")"
   ]
  },
  {
   "cell_type": "code",
   "execution_count": 183,
   "metadata": {},
   "outputs": [
    {
     "data": {
      "text/html": [
       "<div>\n",
       "<style scoped>\n",
       "    .dataframe tbody tr th:only-of-type {\n",
       "        vertical-align: middle;\n",
       "    }\n",
       "\n",
       "    .dataframe tbody tr th {\n",
       "        vertical-align: top;\n",
       "    }\n",
       "\n",
       "    .dataframe thead th {\n",
       "        text-align: right;\n",
       "    }\n",
       "</style>\n",
       "<table border=\"1\" class=\"dataframe\">\n",
       "  <thead>\n",
       "    <tr style=\"text-align: right;\">\n",
       "      <th></th>\n",
       "      <th>jobId</th>\n",
       "      <th>companyId</th>\n",
       "      <th>jobType</th>\n",
       "      <th>degree</th>\n",
       "      <th>major</th>\n",
       "      <th>industry</th>\n",
       "      <th>yearsExperience</th>\n",
       "      <th>milesFromMetropolis</th>\n",
       "      <th>salary</th>\n",
       "      <th>jobType_mean_enc</th>\n",
       "      <th>degree_mean_enc</th>\n",
       "      <th>major_mean_enc</th>\n",
       "      <th>industry_mean_enc</th>\n",
       "    </tr>\n",
       "  </thead>\n",
       "  <tbody>\n",
       "    <tr>\n",
       "      <th>0</th>\n",
       "      <td>JOB1362684407688</td>\n",
       "      <td>0</td>\n",
       "      <td>CEO</td>\n",
       "      <td>HIGH_SCHOOL</td>\n",
       "      <td>NONE</td>\n",
       "      <td>WEB</td>\n",
       "      <td>3</td>\n",
       "      <td>73</td>\n",
       "      <td>101</td>\n",
       "      <td>145.338783</td>\n",
       "      <td>101.919172</td>\n",
       "      <td>102.573933</td>\n",
       "      <td>121.707264</td>\n",
       "    </tr>\n",
       "    <tr>\n",
       "      <th>1</th>\n",
       "      <td>JOB1362684407689</td>\n",
       "      <td>1</td>\n",
       "      <td>VICE_PRESIDENT</td>\n",
       "      <td>DOCTORAL</td>\n",
       "      <td>PHYSICS</td>\n",
       "      <td>HEALTH</td>\n",
       "      <td>10</td>\n",
       "      <td>38</td>\n",
       "      <td>137</td>\n",
       "      <td>125.396191</td>\n",
       "      <td>135.478282</td>\n",
       "      <td>130.440985</td>\n",
       "      <td>115.774427</td>\n",
       "    </tr>\n",
       "    <tr>\n",
       "      <th>2</th>\n",
       "      <td>JOB1362684407690</td>\n",
       "      <td>2</td>\n",
       "      <td>MANAGER</td>\n",
       "      <td>DOCTORAL</td>\n",
       "      <td>CHEMISTRY</td>\n",
       "      <td>AUTO</td>\n",
       "      <td>8</td>\n",
       "      <td>17</td>\n",
       "      <td>142</td>\n",
       "      <td>115.443570</td>\n",
       "      <td>135.478282</td>\n",
       "      <td>128.937646</td>\n",
       "      <td>109.419574</td>\n",
       "    </tr>\n",
       "    <tr>\n",
       "      <th>3</th>\n",
       "      <td>JOB1362684407691</td>\n",
       "      <td>3</td>\n",
       "      <td>VICE_PRESIDENT</td>\n",
       "      <td>BACHELORS</td>\n",
       "      <td>PHYSICS</td>\n",
       "      <td>FINANCE</td>\n",
       "      <td>8</td>\n",
       "      <td>16</td>\n",
       "      <td>163</td>\n",
       "      <td>125.396191</td>\n",
       "      <td>125.443816</td>\n",
       "      <td>130.440985</td>\n",
       "      <td>130.644209</td>\n",
       "    </tr>\n",
       "    <tr>\n",
       "      <th>4</th>\n",
       "      <td>JOB1362684407692</td>\n",
       "      <td>4</td>\n",
       "      <td>MANAGER</td>\n",
       "      <td>DOCTORAL</td>\n",
       "      <td>COMPSCI</td>\n",
       "      <td>FINANCE</td>\n",
       "      <td>2</td>\n",
       "      <td>31</td>\n",
       "      <td>113</td>\n",
       "      <td>115.443570</td>\n",
       "      <td>135.478282</td>\n",
       "      <td>132.128548</td>\n",
       "      <td>130.644209</td>\n",
       "    </tr>\n",
       "  </tbody>\n",
       "</table>\n",
       "</div>"
      ],
      "text/plain": [
       "              jobId  companyId         jobType       degree      major  \\\n",
       "0  JOB1362684407688          0             CEO  HIGH_SCHOOL       NONE   \n",
       "1  JOB1362684407689          1  VICE_PRESIDENT     DOCTORAL    PHYSICS   \n",
       "2  JOB1362684407690          2         MANAGER     DOCTORAL  CHEMISTRY   \n",
       "3  JOB1362684407691          3  VICE_PRESIDENT    BACHELORS    PHYSICS   \n",
       "4  JOB1362684407692          4         MANAGER     DOCTORAL    COMPSCI   \n",
       "\n",
       "  industry  yearsExperience  milesFromMetropolis  salary  jobType_mean_enc  \\\n",
       "0      WEB                3                   73     101        145.338783   \n",
       "1   HEALTH               10                   38     137        125.396191   \n",
       "2     AUTO                8                   17     142        115.443570   \n",
       "3  FINANCE                8                   16     163        125.396191   \n",
       "4  FINANCE                2                   31     113        115.443570   \n",
       "\n",
       "   degree_mean_enc  major_mean_enc  industry_mean_enc  \n",
       "0       101.919172      102.573933         121.707264  \n",
       "1       135.478282      130.440985         115.774427  \n",
       "2       135.478282      128.937646         109.419574  \n",
       "3       125.443816      130.440985         130.644209  \n",
       "4       135.478282      132.128548         130.644209  "
      ]
     },
     "execution_count": 183,
     "metadata": {},
     "output_type": "execute_result"
    }
   ],
   "source": [
    "new_train.head()"
   ]
  },
  {
   "cell_type": "code",
   "execution_count": 184,
   "metadata": {},
   "outputs": [
    {
     "data": {
      "text/html": [
       "<div>\n",
       "<style scoped>\n",
       "    .dataframe tbody tr th:only-of-type {\n",
       "        vertical-align: middle;\n",
       "    }\n",
       "\n",
       "    .dataframe tbody tr th {\n",
       "        vertical-align: top;\n",
       "    }\n",
       "\n",
       "    .dataframe thead th {\n",
       "        text-align: right;\n",
       "    }\n",
       "</style>\n",
       "<table border=\"1\" class=\"dataframe\">\n",
       "  <thead>\n",
       "    <tr style=\"text-align: right;\">\n",
       "      <th></th>\n",
       "      <th>jobId</th>\n",
       "      <th>companyId</th>\n",
       "      <th>jobType</th>\n",
       "      <th>degree</th>\n",
       "      <th>major</th>\n",
       "      <th>industry</th>\n",
       "      <th>yearsExperience</th>\n",
       "      <th>milesFromMetropolis</th>\n",
       "      <th>salary</th>\n",
       "      <th>jobType_mean_enc</th>\n",
       "      <th>degree_mean_enc</th>\n",
       "      <th>major_mean_enc</th>\n",
       "      <th>industry_mean_enc</th>\n",
       "    </tr>\n",
       "  </thead>\n",
       "  <tbody>\n",
       "    <tr>\n",
       "      <th>0</th>\n",
       "      <td>JOB1362684407708</td>\n",
       "      <td>5</td>\n",
       "      <td>JUNIOR</td>\n",
       "      <td>NONE</td>\n",
       "      <td>NONE</td>\n",
       "      <td>AUTO</td>\n",
       "      <td>14</td>\n",
       "      <td>62</td>\n",
       "      <td>68</td>\n",
       "      <td>95.332486</td>\n",
       "      <td>98.173893</td>\n",
       "      <td>102.569156</td>\n",
       "      <td>109.422435</td>\n",
       "    </tr>\n",
       "    <tr>\n",
       "      <th>1</th>\n",
       "      <td>JOB1362684407732</td>\n",
       "      <td>24</td>\n",
       "      <td>VICE_PRESIDENT</td>\n",
       "      <td>MASTERS</td>\n",
       "      <td>LITERATURE</td>\n",
       "      <td>OIL</td>\n",
       "      <td>0</td>\n",
       "      <td>76</td>\n",
       "      <td>112</td>\n",
       "      <td>125.386260</td>\n",
       "      <td>130.456661</td>\n",
       "      <td>124.429459</td>\n",
       "      <td>131.025324</td>\n",
       "    </tr>\n",
       "    <tr>\n",
       "      <th>2</th>\n",
       "      <td>JOB1362684407739</td>\n",
       "      <td>56</td>\n",
       "      <td>JUNIOR</td>\n",
       "      <td>MASTERS</td>\n",
       "      <td>BIOLOGY</td>\n",
       "      <td>FINANCE</td>\n",
       "      <td>11</td>\n",
       "      <td>72</td>\n",
       "      <td>88</td>\n",
       "      <td>95.332486</td>\n",
       "      <td>130.456661</td>\n",
       "      <td>127.756811</td>\n",
       "      <td>130.662140</td>\n",
       "    </tr>\n",
       "    <tr>\n",
       "      <th>3</th>\n",
       "      <td>JOB1362684407740</td>\n",
       "      <td>39</td>\n",
       "      <td>MANAGER</td>\n",
       "      <td>DOCTORAL</td>\n",
       "      <td>ENGINEERING</td>\n",
       "      <td>WEB</td>\n",
       "      <td>24</td>\n",
       "      <td>58</td>\n",
       "      <td>193</td>\n",
       "      <td>115.384606</td>\n",
       "      <td>135.460702</td>\n",
       "      <td>138.487446</td>\n",
       "      <td>121.665454</td>\n",
       "    </tr>\n",
       "    <tr>\n",
       "      <th>4</th>\n",
       "      <td>JOB1362684407741</td>\n",
       "      <td>13</td>\n",
       "      <td>JANITOR</td>\n",
       "      <td>HIGH_SCHOOL</td>\n",
       "      <td>NONE</td>\n",
       "      <td>AUTO</td>\n",
       "      <td>9</td>\n",
       "      <td>4</td>\n",
       "      <td>91</td>\n",
       "      <td>70.808244</td>\n",
       "      <td>101.900083</td>\n",
       "      <td>102.569156</td>\n",
       "      <td>109.422435</td>\n",
       "    </tr>\n",
       "  </tbody>\n",
       "</table>\n",
       "</div>"
      ],
      "text/plain": [
       "              jobId  companyId         jobType       degree        major  \\\n",
       "0  JOB1362684407708          5          JUNIOR         NONE         NONE   \n",
       "1  JOB1362684407732         24  VICE_PRESIDENT      MASTERS   LITERATURE   \n",
       "2  JOB1362684407739         56          JUNIOR      MASTERS      BIOLOGY   \n",
       "3  JOB1362684407740         39         MANAGER     DOCTORAL  ENGINEERING   \n",
       "4  JOB1362684407741         13         JANITOR  HIGH_SCHOOL         NONE   \n",
       "\n",
       "  industry  yearsExperience  milesFromMetropolis  salary  jobType_mean_enc  \\\n",
       "0     AUTO               14                   62      68         95.332486   \n",
       "1      OIL                0                   76     112        125.386260   \n",
       "2  FINANCE               11                   72      88         95.332486   \n",
       "3      WEB               24                   58     193        115.384606   \n",
       "4     AUTO                9                    4      91         70.808244   \n",
       "\n",
       "   degree_mean_enc  major_mean_enc  industry_mean_enc  \n",
       "0        98.173893      102.569156         109.422435  \n",
       "1       130.456661      124.429459         131.025324  \n",
       "2       130.456661      127.756811         130.662140  \n",
       "3       135.460702      138.487446         121.665454  \n",
       "4       101.900083      102.569156         109.422435  "
      ]
     },
     "execution_count": 184,
     "metadata": {},
     "output_type": "execute_result"
    }
   ],
   "source": [
    "new_test.head()"
   ]
  },
  {
   "cell_type": "markdown",
   "metadata": {},
   "source": [
    "# Model Building"
   ]
  },
  {
   "cell_type": "markdown",
   "metadata": {},
   "source": [
    "Let's first build a Random Forest model, and perform feature selection based on feature importance.  \n",
    "Since it Random Forest is ensemble tree model, we don't need to scale the data."
   ]
  },
  {
   "cell_type": "code",
   "execution_count": 185,
   "metadata": {},
   "outputs": [],
   "source": [
    "from sklearn.ensemble import forest\n",
    "def set_rf_samples(n):\n",
    "    \"\"\" \n",
    "    Changes Scikit learn's random forests to give each tree a random sample of\n",
    "    n random rows.\n",
    "    \"\"\"\n",
    "    forest._generate_sample_indices = (lambda rs, n_samples:\n",
    "        forest.check_random_state(rs).randint(0, n_samples, n))"
   ]
  },
  {
   "cell_type": "code",
   "execution_count": 186,
   "metadata": {},
   "outputs": [],
   "source": [
    "set_rf_samples(50000)\n",
    "rf_int = RandomForestRegressor(n_estimators=10, criterion='mse', max_depth=10, min_samples_split=5,\n",
    "                          min_samples_leaf=10, max_features=0.5, n_jobs=-1)"
   ]
  },
  {
   "cell_type": "code",
   "execution_count": 187,
   "metadata": {},
   "outputs": [],
   "source": [
    "keep = ['companyId', 'yearsExperience', 'milesFromMetropolis', 'jobType_mean_enc',\n",
    "       'degree_mean_enc', 'major_mean_enc', 'industry_mean_enc' ]"
   ]
  },
  {
   "cell_type": "code",
   "execution_count": 188,
   "metadata": {},
   "outputs": [
    {
     "data": {
      "text/plain": [
       "RandomForestRegressor(bootstrap=True, criterion='mse', max_depth=10,\n",
       "           max_features=0.5, max_leaf_nodes=None,\n",
       "           min_impurity_decrease=0.0, min_impurity_split=None,\n",
       "           min_samples_leaf=10, min_samples_split=5,\n",
       "           min_weight_fraction_leaf=0.0, n_estimators=10, n_jobs=-1,\n",
       "           oob_score=False, random_state=None, verbose=0, warm_start=False)"
      ]
     },
     "execution_count": 188,
     "metadata": {},
     "output_type": "execute_result"
    }
   ],
   "source": [
    "rf_int.fit(new_train[keep], new_train['salary'])"
   ]
  },
  {
   "cell_type": "code",
   "execution_count": 189,
   "metadata": {},
   "outputs": [],
   "source": [
    "import math\n",
    "def rmse(y_true, y_pred):\n",
    "#    return np.power(np.mean(np.power(y_true - y_pred, 2)), 0.5)\n",
    "    return math.sqrt(((y_true-y_pred)**2).mean())"
   ]
  },
  {
   "cell_type": "code",
   "execution_count": 190,
   "metadata": {},
   "outputs": [
    {
     "name": "stdout",
     "output_type": "stream",
     "text": [
      "Traing RMSE:  19.601672055489036\n",
      "Validation RMSE:  19.662648629235637\n"
     ]
    }
   ],
   "source": [
    "train_rmse = rmse(new_train['salary'], rf_int.predict(new_train[keep]))\n",
    "val_rmse = rmse(new_val['salary'], rf_int.predict(new_val[keep]))\n",
    "print('Traing RMSE: ', train_rmse)\n",
    "print('Validation RMSE: ', val_rmse)"
   ]
  },
  {
   "cell_type": "code",
   "execution_count": 214,
   "metadata": {},
   "outputs": [
    {
     "data": {
      "image/png": "[encoded data removed]",
      "text/plain": [
       "<Figure size 432x288 with 1 Axes>"
      ]
     },
     "metadata": {},
     "output_type": "display_data"
    }
   ],
   "source": [
    "def plot_feat_importance(model, df):\n",
    "    \"\"\"\n",
    "    Plot feature importance of input trained model.\n",
    "    \"\"\"\n",
    "    fi = pd.DataFrame({'cols':df.columns, 'imp':model.feature_importances_}\n",
    "                       ).sort_values('imp', ascending=False)\n",
    "    sns.set(color_codes=True)\n",
    "    sns.barplot(y = fi['cols'], x = fi['imp'])\n",
    "    return fi\n",
    "fi = plot_feat_importance(rf_int, new_train[keep])"
   ]
  },
  {
   "cell_type": "markdown",
   "metadata": {},
   "source": [
    "Let's select features with feature importance >= 0.01 (discard variable $companyId$):"
   ]
  },
  {
   "cell_type": "code",
   "execution_count": 216,
   "metadata": {},
   "outputs": [],
   "source": [
    "keep_final = fi[fi['imp']>=0.01].cols"
   ]
  },
  {
   "cell_type": "code",
   "execution_count": 193,
   "metadata": {},
   "outputs": [
    {
     "data": {
      "text/plain": [
       "RandomForestRegressor(bootstrap=True, criterion='mse', max_depth=10,\n",
       "           max_features=0.5, max_leaf_nodes=None,\n",
       "           min_impurity_decrease=0.0, min_impurity_split=None,\n",
       "           min_samples_leaf=10, min_samples_split=5,\n",
       "           min_weight_fraction_leaf=0.0, n_estimators=10, n_jobs=-1,\n",
       "           oob_score=False, random_state=50, verbose=0, warm_start=False)"
      ]
     },
     "execution_count": 193,
     "metadata": {},
     "output_type": "execute_result"
    }
   ],
   "source": [
    "m = RandomForestRegressor(n_estimators=10, criterion='mse', max_depth=10, min_samples_split=5,\n",
    "                          min_samples_leaf=10, max_features=0.5, n_jobs=-1, random_state=50)\n",
    "m.fit(new_train[keep_final], new_train['salary'])"
   ]
  },
  {
   "cell_type": "code",
   "execution_count": 194,
   "metadata": {},
   "outputs": [
    {
     "name": "stdout",
     "output_type": "stream",
     "text": [
      "Traing RMSE:  19.480644168423165\n",
      "Validation RMSE:  19.549366861034297\n"
     ]
    }
   ],
   "source": [
    "train_rmse = rmse(new_train['salary'], m.predict(new_train[keep_final]))\n",
    "val_rmse = rmse(new_val['salary'], m.predict(new_val[keep_final]))\n",
    "print('Traing RMSE: ', train_rmse)\n",
    "print('Validation RMSE: ', val_rmse)"
   ]
  },
  {
   "cell_type": "markdown",
   "metadata": {},
   "source": [
    "As we can see, the RMSE of both training set and validation set is even bettern after we delete companyId, and here is the feature importance of our new model:"
   ]
  },
  {
   "cell_type": "code",
   "execution_count": 195,
   "metadata": {},
   "outputs": [
    {
     "data": {
      "image/png": "[encoded data removed]",
      "text/plain": [
       "<Figure size 432x288 with 1 Axes>"
      ]
     },
     "metadata": {},
     "output_type": "display_data"
    }
   ],
   "source": [
    "fi = plot_feat_importance(m, new_train[keep_final])"
   ]
  },
  {
   "cell_type": "markdown",
   "metadata": {},
   "source": [
    "Let's tune hyperparameters to achieve the best RMSE on validation set:"
   ]
  },
  {
   "cell_type": "code",
   "execution_count": 196,
   "metadata": {},
   "outputs": [],
   "source": [
    "validation_rmse_rf = pd.DataFrame({'val_rmse':np.zeros(90), 'train_rmse':np.zeros(90), \n",
    "                                   'max_depth': np.zeros(90), \n",
    "                                   'min_samples_leaf': np.zeros(90), 'max_features': np.zeros(90)})"
   ]
  },
  {
   "cell_type": "code",
   "execution_count": 197,
   "metadata": {},
   "outputs": [],
   "source": [
    "i = 0\n",
    "for max_depth in [6, 8, 10]:\n",
    "    for min_samples_leaf in range(5,15):\n",
    "        for max_features in [0.5, 'sqrt', 'log2']:\n",
    "            m = RandomForestRegressor(n_estimators=30, criterion='mse', max_depth=max_depth, \n",
    "                                      min_samples_split=20, min_samples_leaf=min_samples_leaf, \n",
    "                                      max_features=max_features, n_jobs=-1, random_state=40)\n",
    "            m.fit(new_train[keep_final], new_train['salary'])\n",
    "            train_rmse = rmse(new_train['salary'], m.predict(new_train[keep_final]))\n",
    "            val_rmse = rmse(new_val['salary'], m.predict(new_val[keep_final]))\n",
    "            validation_rmse_rf.iloc[i] = val_rmse, train_rmse, max_depth, min_samples_leaf, max_features\n",
    "            i += 1"
   ]
  },
  {
   "cell_type": "code",
   "execution_count": 198,
   "metadata": {},
   "outputs": [],
   "source": [
    "validation_rmse_rf.columns = ['val_rmse', 'train_rmse', 'max_depth', 'min_samples_leaf', \n",
    "                              'max_features']"
   ]
  },
  {
   "cell_type": "code",
   "execution_count": 199,
   "metadata": {},
   "outputs": [
    {
     "data": {
      "text/html": [
       "<div>\n",
       "<style scoped>\n",
       "    .dataframe tbody tr th:only-of-type {\n",
       "        vertical-align: middle;\n",
       "    }\n",
       "\n",
       "    .dataframe tbody tr th {\n",
       "        vertical-align: top;\n",
       "    }\n",
       "\n",
       "    .dataframe thead th {\n",
       "        text-align: right;\n",
       "    }\n",
       "</style>\n",
       "<table border=\"1\" class=\"dataframe\">\n",
       "  <thead>\n",
       "    <tr style=\"text-align: right;\">\n",
       "      <th></th>\n",
       "      <th>val_rmse</th>\n",
       "      <th>train_rmse</th>\n",
       "      <th>max_depth</th>\n",
       "      <th>min_samples_leaf</th>\n",
       "      <th>max_features</th>\n",
       "    </tr>\n",
       "  </thead>\n",
       "  <tbody>\n",
       "    <tr>\n",
       "      <th>81</th>\n",
       "      <td>19.425732</td>\n",
       "      <td>19.374007</td>\n",
       "      <td>10.0</td>\n",
       "      <td>12.0</td>\n",
       "      <td>0.5</td>\n",
       "    </tr>\n",
       "    <tr>\n",
       "      <th>78</th>\n",
       "      <td>19.433602</td>\n",
       "      <td>19.369333</td>\n",
       "      <td>10.0</td>\n",
       "      <td>11.0</td>\n",
       "      <td>0.5</td>\n",
       "    </tr>\n",
       "    <tr>\n",
       "      <th>75</th>\n",
       "      <td>19.437754</td>\n",
       "      <td>19.381439</td>\n",
       "      <td>10.0</td>\n",
       "      <td>10.0</td>\n",
       "      <td>0.5</td>\n",
       "    </tr>\n",
       "    <tr>\n",
       "      <th>87</th>\n",
       "      <td>19.438569</td>\n",
       "      <td>19.384172</td>\n",
       "      <td>10.0</td>\n",
       "      <td>14.0</td>\n",
       "      <td>0.5</td>\n",
       "    </tr>\n",
       "    <tr>\n",
       "      <th>69</th>\n",
       "      <td>19.442441</td>\n",
       "      <td>19.379773</td>\n",
       "      <td>10.0</td>\n",
       "      <td>8.0</td>\n",
       "      <td>0.5</td>\n",
       "    </tr>\n",
       "  </tbody>\n",
       "</table>\n",
       "</div>"
      ],
      "text/plain": [
       "     val_rmse  train_rmse  max_depth  min_samples_leaf max_features\n",
       "81  19.425732   19.374007       10.0              12.0          0.5\n",
       "78  19.433602   19.369333       10.0              11.0          0.5\n",
       "75  19.437754   19.381439       10.0              10.0          0.5\n",
       "87  19.438569   19.384172       10.0              14.0          0.5\n",
       "69  19.442441   19.379773       10.0               8.0          0.5"
      ]
     },
     "execution_count": 199,
     "metadata": {},
     "output_type": "execute_result"
    }
   ],
   "source": [
    "validation_rmse_rf.sort_values(['val_rmse']).head()"
   ]
  },
  {
   "cell_type": "code",
   "execution_count": 200,
   "metadata": {},
   "outputs": [],
   "source": [
    "m = RandomForestRegressor(n_estimators=30, criterion='mse', max_depth=10, \n",
    "                  min_samples_split=20, min_samples_leaf=9, \n",
    "                  max_features=0.5, n_jobs=-1, random_state=40)\n",
    "m.fit(new_train[keep_final], new_train['salary'])\n",
    "train_rmse = rmse(new_train['salary'], m.predict(new_train[keep_final]))\n",
    "val_rmse = rmse(new_val['salary'], m.predict(new_val[keep_final]))"
   ]
  },
  {
   "cell_type": "code",
   "execution_count": 201,
   "metadata": {},
   "outputs": [
    {
     "data": {
      "text/plain": [
       "(19.38612549277942, 19.44266632703868)"
      ]
     },
     "execution_count": 201,
     "metadata": {},
     "output_type": "execute_result"
    }
   ],
   "source": [
    "train_rmse, val_rmse"
   ]
  },
  {
   "cell_type": "markdown",
   "metadata": {},
   "source": [
    "Let's also train an XGBoost model so that we can use **averaging predictions of multiple models to reduce overfit**:"
   ]
  },
  {
   "cell_type": "code",
   "execution_count": 202,
   "metadata": {},
   "outputs": [],
   "source": [
    "validation_rmse_xgb = pd.DataFrame({'val_rmse':np.zeros(27), 'train_rmse':np.zeros(27), \n",
    "                                    'max_depth': np.zeros(27), 'subsample': np.zeros(27), \n",
    "                                    'colsample_bytree': np.zeros(27)})"
   ]
  },
  {
   "cell_type": "code",
   "execution_count": 203,
   "metadata": {},
   "outputs": [],
   "source": [
    "i = 0\n",
    "for max_depth in [6, 8, 10]:\n",
    "    for subsample in [0.6, 0.7, 0.8]:\n",
    "        for colsample_bylevel in [0.6, 0.7, 0.8]:\n",
    "            m = xgb.XGBRegressor(n_estimators=30, learning_rate=0.1, max_depth=max_depth, subsample=subsample, \n",
    "                                 colsample_bylevel=colsample_bylevel, n_jobs=-1, random_state=40)\n",
    "            m.fit(new_train[keep_final], new_train['salary'])\n",
    "            train_rmse = rmse(new_train['salary'], m.predict(new_train[keep_final]))\n",
    "            val_rmse = rmse(new_val['salary'], m.predict(new_val[keep_final]))\n",
    "            validation_rmse_xgb.iloc[i] = val_rmse, train_rmse, max_depth, subsample, colsample_bylevel\n",
    "            i += 1"
   ]
  },
  {
   "cell_type": "code",
   "execution_count": 204,
   "metadata": {},
   "outputs": [],
   "source": [
    "validation_rmse_xgb.columns = ['val_rmse', 'train_rmse', 'max_depth', 'subsample', 'colsample_bylevel']"
   ]
  },
  {
   "cell_type": "code",
   "execution_count": 205,
   "metadata": {},
   "outputs": [
    {
     "data": {
      "text/html": [
       "<div>\n",
       "<style scoped>\n",
       "    .dataframe tbody tr th:only-of-type {\n",
       "        vertical-align: middle;\n",
       "    }\n",
       "\n",
       "    .dataframe tbody tr th {\n",
       "        vertical-align: top;\n",
       "    }\n",
       "\n",
       "    .dataframe thead th {\n",
       "        text-align: right;\n",
       "    }\n",
       "</style>\n",
       "<table border=\"1\" class=\"dataframe\">\n",
       "  <thead>\n",
       "    <tr style=\"text-align: right;\">\n",
       "      <th></th>\n",
       "      <th>val_rmse</th>\n",
       "      <th>train_rmse</th>\n",
       "      <th>max_depth</th>\n",
       "      <th>subsample</th>\n",
       "      <th>colsample_bylevel</th>\n",
       "    </tr>\n",
       "  </thead>\n",
       "  <tbody>\n",
       "    <tr>\n",
       "      <th>23</th>\n",
       "      <td>19.708315</td>\n",
       "      <td>19.449637</td>\n",
       "      <td>10.0</td>\n",
       "      <td>0.7</td>\n",
       "      <td>0.8</td>\n",
       "    </tr>\n",
       "    <tr>\n",
       "      <th>22</th>\n",
       "      <td>19.708315</td>\n",
       "      <td>19.449637</td>\n",
       "      <td>10.0</td>\n",
       "      <td>0.7</td>\n",
       "      <td>0.7</td>\n",
       "    </tr>\n",
       "    <tr>\n",
       "      <th>20</th>\n",
       "      <td>19.713338</td>\n",
       "      <td>19.460563</td>\n",
       "      <td>10.0</td>\n",
       "      <td>0.6</td>\n",
       "      <td>0.8</td>\n",
       "    </tr>\n",
       "    <tr>\n",
       "      <th>19</th>\n",
       "      <td>19.713338</td>\n",
       "      <td>19.460563</td>\n",
       "      <td>10.0</td>\n",
       "      <td>0.6</td>\n",
       "      <td>0.7</td>\n",
       "    </tr>\n",
       "    <tr>\n",
       "      <th>18</th>\n",
       "      <td>19.724501</td>\n",
       "      <td>19.486054</td>\n",
       "      <td>10.0</td>\n",
       "      <td>0.6</td>\n",
       "      <td>0.6</td>\n",
       "    </tr>\n",
       "  </tbody>\n",
       "</table>\n",
       "</div>"
      ],
      "text/plain": [
       "     val_rmse  train_rmse  max_depth  subsample  colsample_bylevel\n",
       "23  19.708315   19.449637       10.0        0.7                0.8\n",
       "22  19.708315   19.449637       10.0        0.7                0.7\n",
       "20  19.713338   19.460563       10.0        0.6                0.8\n",
       "19  19.713338   19.460563       10.0        0.6                0.7\n",
       "18  19.724501   19.486054       10.0        0.6                0.6"
      ]
     },
     "execution_count": 205,
     "metadata": {},
     "output_type": "execute_result"
    }
   ],
   "source": [
    "validation_rmse_xgb.sort_values(['val_rmse']).head()"
   ]
  },
  {
   "cell_type": "markdown",
   "metadata": {},
   "source": [
    "Let's select the best 2 models from Random Forest (weight 0.4, 0.3) and the best model from XGBoost (weight 0.3), merge train and validation set to whole training data, average their predictions with weight, and use test data to see the performance:"
   ]
  },
  {
   "cell_type": "code",
   "execution_count": 206,
   "metadata": {},
   "outputs": [],
   "source": [
    "final_train = new_test = train[split_inedx!=2].reset_index(drop=True)\n",
    "target_encoding(final_train, col = \"jobType\")\n",
    "mean_encoding_test(new_test, final_train, col = \"jobType\")\n",
    "target_encoding(final_train, col = \"degree\")\n",
    "mean_encoding_test(new_test, final_train, col = \"degree\")\n",
    "target_encoding(final_train, col = \"industry\")\n",
    "mean_encoding_test(new_test, final_train, col = \"industry\")\n",
    "target_encoding(final_train, col = \"major\")\n",
    "mean_encoding_test(new_test, final_train, col = \"major\")"
   ]
  },
  {
   "cell_type": "code",
   "execution_count": 207,
   "metadata": {},
   "outputs": [
    {
     "name": "stdout",
     "output_type": "stream",
     "text": [
      "Train RMSE:  19.19550445410573\n",
      "Test RMSE:  19.19550445410573\n"
     ]
    }
   ],
   "source": [
    "bst1 = RandomForestRegressor(n_estimators=30, criterion='mse', max_depth=10, \n",
    "                  min_samples_split=20, min_samples_leaf=11, \n",
    "                  max_features=0.5, n_jobs=-1, random_state=40)\n",
    "bst1.fit(final_train[keep_final], final_train['salary'])\n",
    "\n",
    "bst2 = RandomForestRegressor(n_estimators=30, criterion='mse', max_depth=10, \n",
    "                  min_samples_split=20, min_samples_leaf=10, \n",
    "                  max_features=0.5, n_jobs=-1, random_state=40)\n",
    "bst2.fit(final_train[keep_final], final_train['salary'])\n",
    "\n",
    "bst3 = xgb.XGBRegressor(n_estimators=30, learning_rate=0.1, max_depth=10, subsample=0.7, \n",
    "                                 colsample_bylevel=0.8, n_jobs=-1, random_state=40)\n",
    "bst3.fit(final_train[keep_final], final_train['salary'])\n",
    "\n",
    "avg_train_pred = (0.4*bst1.predict(final_train[keep_final]) + 0.3*bst2.predict(final_train[keep_final]) +\n",
    "                     0.3*bst3.predict(final_train[keep_final]))\n",
    "train_rmse = rmse(final_train['salary'], avg_train_pred)\n",
    "print('Train RMSE: ', train_rmse)\n",
    "\n",
    "avg_test_pred = (0.4*bst1.predict(new_test[keep_final]) + 0.3*bst2.predict(new_test[keep_final]) +\n",
    "                     0.3*bst3.predict(new_test[keep_final]))\n",
    "test_rmse = rmse(new_test['salary'], avg_test_pred)\n",
    "print('Test RMSE: ', test_rmse)"
   ]
  },
  {
   "cell_type": "markdown",
   "metadata": {},
   "source": [
    "Let's use the weighted ensemble model to predict the real test data (test_features_2013-03-07.csv):"
   ]
  },
  {
   "cell_type": "code",
   "execution_count": 208,
   "metadata": {},
   "outputs": [],
   "source": [
    "mean_encoding_test(test_gfeatures, final_train, col = \"jobType\")\n",
    "mean_encoding_test(test_features, final_train, col = \"degree\")\n",
    "mean_encoding_test(test_features, final_train, col = \"industry\")\n",
    "mean_encoding_test(test_features, final_train, col = \"major\")"
   ]
  },
  {
   "cell_type": "code",
   "execution_count": 209,
   "metadata": {},
   "outputs": [],
   "source": [
    "real_test_pred = 0.4*bst1.predict(test_features[keep_final]) + 0.3*bst2.predict(test_features[keep_final]) +\\\n",
    "                 0.3*bst3.predict(test_features[keep_final])"
   ]
  },
  {
   "cell_type": "code",
   "execution_count": 211,
   "metadata": {},
   "outputs": [],
   "source": [
    "test_salaries = pd.DataFrame({'jobId': test_features['jobId'], 'salary': real_test_pred})"
   ]
  },
  {
   "cell_type": "code",
   "execution_count": 221,
   "metadata": {},
   "outputs": [
    {
     "data": {
      "text/html": [
       "<div>\n",
       "<style scoped>\n",
       "    .dataframe tbody tr th:only-of-type {\n",
       "        vertical-align: middle;\n",
       "    }\n",
       "\n",
       "    .dataframe tbody tr th {\n",
       "        vertical-align: top;\n",
       "    }\n",
       "\n",
       "    .dataframe thead th {\n",
       "        text-align: right;\n",
       "    }\n",
       "</style>\n",
       "<table border=\"1\" class=\"dataframe\">\n",
       "  <thead>\n",
       "    <tr style=\"text-align: right;\">\n",
       "      <th></th>\n",
       "      <th>jobId</th>\n",
       "      <th>salary</th>\n",
       "    </tr>\n",
       "  </thead>\n",
       "  <tbody>\n",
       "    <tr>\n",
       "      <th>0</th>\n",
       "      <td>JOB1362685407687</td>\n",
       "      <td>109.163468</td>\n",
       "    </tr>\n",
       "    <tr>\n",
       "      <th>1</th>\n",
       "      <td>JOB1362685407688</td>\n",
       "      <td>95.777788</td>\n",
       "    </tr>\n",
       "    <tr>\n",
       "      <th>2</th>\n",
       "      <td>JOB1362685407689</td>\n",
       "      <td>171.489965</td>\n",
       "    </tr>\n",
       "    <tr>\n",
       "      <th>3</th>\n",
       "      <td>JOB1362685407690</td>\n",
       "      <td>105.996162</td>\n",
       "    </tr>\n",
       "    <tr>\n",
       "      <th>4</th>\n",
       "      <td>JOB1362685407691</td>\n",
       "      <td>111.312048</td>\n",
       "    </tr>\n",
       "  </tbody>\n",
       "</table>\n",
       "</div>"
      ],
      "text/plain": [
       "              jobId      salary\n",
       "0  JOB1362685407687  109.163468\n",
       "1  JOB1362685407688   95.777788\n",
       "2  JOB1362685407689  171.489965\n",
       "3  JOB1362685407690  105.996162\n",
       "4  JOB1362685407691  111.312048"
      ]
     },
     "execution_count": 221,
     "metadata": {},
     "output_type": "execute_result"
    }
   ],
   "source": [
    "test_salaries.head()"
   ]
  },
  {
   "cell_type": "code",
   "execution_count": 222,
   "metadata": {},
   "outputs": [],
   "source": [
    "test_salaries.to_csv('test_salaries.csv')"
   ]
  },
  {
   "cell_type": "code",
   "execution_count": null,
   "metadata": {},
   "outputs": [],
   "source": []
  }
 ],
 "metadata": {
  "kernelspec": {
   "display_name": "py36",
   "language": "python",
   "name": "py36"
  },
  "language_info": {
   "codemirror_mode": {
    "name": "ipython",
    "version": 3
   },
   "file_extension": ".py",
   "mimetype": "text/x-python",
   "name": "python",
   "nbconvert_exporter": "python",
   "pygments_lexer": "ipython3",
   "version": "3.6.4"
  },
  "widgets": {
   "application/vnd.jupyter.widget-state+json": {
    "state": {},
    "version_major": 2,
    "version_minor": 0
   }
  }
 },
 "nbformat": 4,
 "nbformat_minor": 2
}
